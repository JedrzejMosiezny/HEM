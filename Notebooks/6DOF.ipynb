{
 "cells": [
  {
   "cell_type": "code",
   "execution_count": 2,
   "metadata": {},
   "outputs": [],
   "source": [
    "import numpy as np\n",
    "import pandas as pd\n",
    "import matplotlib.pyplot as plt"
   ]
  },
  {
   "cell_type": "code",
   "execution_count": 3,
   "metadata": {},
   "outputs": [],
   "source": [
    "#atmosphere\n",
    "g_0 = 9.81\n",
    "rho_0 = 1.225\n",
    "p_0 = 101325\n",
    "T_0 = 300"
   ]
  },
  {
   "cell_type": "code",
   "execution_count": 4,
   "metadata": {},
   "outputs": [],
   "source": [
    "#aero\n",
    "S_0 = 0.1**2*np.pi/4\n",
    "Cx_0 = 0.1\n",
    "Cz_0 = 0.0"
   ]
  },
  {
   "cell_type": "code",
   "execution_count": 5,
   "metadata": {},
   "outputs": [],
   "source": [
    "#mass and mass flow\n",
    "M_dry = 10\n",
    "M_prop = 7\n",
    "\n",
    "m_dot = 1 #kg/s"
   ]
  },
  {
   "cell_type": "code",
   "execution_count": 6,
   "metadata": {},
   "outputs": [],
   "source": [
    "#initial trajectory\n",
    "alpha_deg = 1\n",
    "alpha_0 = alpha_deg * np.pi/180\n",
    "i_hat_0 = np.sin(alpha_0)\n",
    "j_hat_0 = np.cos(alpha_0)\n",
    "k_hat_0 = 0"
   ]
  },
  {
   "cell_type": "code",
   "execution_count": 7,
   "metadata": {},
   "outputs": [],
   "source": [
    "#iterator setup\n",
    "t = 120 #time in seconds\n",
    "dt = 1 #timestep in sec\n",
    "Ni = t/dt\n",
    "lp = np.arange(0,Ni+1,1) #nr kroku czasowego\n",
    "it = np.arange(0,Ni,1)    #iterator"
   ]
  },
  {
   "cell_type": "code",
   "execution_count": null,
   "metadata": {},
   "outputs": [],
   "source": [
    "#matrix initialisation\n",
    "\n",
    "#force matrix\n",
    "#aero = [L, G, T, D]\n",
    "aero = np.zeros([Ni+1, 4])\n",
    "\n",
    "#position matrix\n",
    "#pos = [x, y, z, alpha, beta, gamma]\n",
    "pos = np.zeros([Ni+1, 6])\n",
    "\n",
    "#angular offset from trajectory matrix\n",
    "#ang = [i_hat, j_hat, k_hat] \n",
    "ang = np.zeros[(Ni+1, 3)]\n",
    "\n",
    "#velocity matrix\n",
    "#vel = [Vx, Vy, Vz, wx, wy, wz]\n",
    "vel = np.zeros([Ni+1, 6])"
   ]
  }
 ],
 "metadata": {
  "kernelspec": {
   "display_name": "Python 3",
   "language": "python",
   "name": "python3"
  },
  "language_info": {
   "codemirror_mode": {
    "name": "ipython",
    "version": 3
   },
   "file_extension": ".py",
   "mimetype": "text/x-python",
   "name": "python",
   "nbconvert_exporter": "python",
   "pygments_lexer": "ipython3",
   "version": "3.6.6"
  }
 },
 "nbformat": 4,
 "nbformat_minor": 2
}
